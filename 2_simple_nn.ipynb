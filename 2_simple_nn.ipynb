{
  "nbformat": 4,
  "nbformat_minor": 0,
  "metadata": {
    "colab": {
      "name": "2-simple-nn.ipynb",
      "provenance": [],
      "collapsed_sections": [],
      "authorship_tag": "ABX9TyPl83wyzB+IrgCpA5Gap7Nn",
      "include_colab_link": true
    },
    "kernelspec": {
      "name": "python3",
      "display_name": "Python 3"
    },
    "language_info": {
      "name": "python"
    }
  },
  "cells": [
    {
      "cell_type": "markdown",
      "metadata": {
        "id": "view-in-github",
        "colab_type": "text"
      },
      "source": [
        "<a href=\"https://colab.research.google.com/github/sontt22791/pytorch-real-world-project/blob/main/2_simple_nn.ipynb\" target=\"_parent\"><img src=\"https://colab.research.google.com/assets/colab-badge.svg\" alt=\"Open In Colab\"/></a>"
      ]
    },
    {
      "cell_type": "code",
      "metadata": {
        "id": "AyUTbT04w7gB"
      },
      "source": [
        "import torch\n",
        "import pandas as pd\n",
        "import numpy as np\n",
        "\n",
        "from tqdm import tqdm\n",
        "import matplotlib.pyplot as plt\n",
        "import seaborn as sns"
      ],
      "execution_count": null,
      "outputs": []
    },
    {
      "cell_type": "code",
      "metadata": {
        "id": "RviCFAWHxi1d"
      },
      "source": [
        "from torch import nn, optim\n",
        "import torch.nn.functional as F\n",
        "\n",
        "from sklearn.model_selection import train_test_split\n",
        "from sklearn.metrics import confusion_matrix, classification_report"
      ],
      "execution_count": null,
      "outputs": []
    },
    {
      "cell_type": "code",
      "metadata": {
        "colab": {
          "base_uri": "https://localhost:8080/"
        },
        "id": "Xb_Tsslixt0h",
        "outputId": "296b28bc-fb8f-44b8-d157-34649b3a304e"
      },
      "source": [
        "np.random.seed(42)\n",
        "torch.manual_seed(42)"
      ],
      "execution_count": null,
      "outputs": [
        {
          "output_type": "execute_result",
          "data": {
            "text/plain": [
              "<torch._C.Generator at 0x7f23168adad0>"
            ]
          },
          "metadata": {},
          "execution_count": 5
        }
      ]
    },
    {
      "cell_type": "code",
      "metadata": {
        "colab": {
          "base_uri": "https://localhost:8080/"
        },
        "id": "YKxpdx5jx7CF",
        "outputId": "4b27628e-8962-4ab0-b31e-3d83fb99f1ca"
      },
      "source": [
        "!gdown --id 1V2M5bObcHrLajWAdTvKYMr_V6-A3X408"
      ],
      "execution_count": null,
      "outputs": [
        {
          "output_type": "stream",
          "name": "stdout",
          "text": [
            "Downloading...\n",
            "From: https://drive.google.com/uc?id=1V2M5bObcHrLajWAdTvKYMr_V6-A3X408\n",
            "To: /content/weatherAUS.csv\n",
            "\r0.00B [00:00, ?B/s]\r14.1MB [00:00, 124MB/s]\n"
          ]
        }
      ]
    },
    {
      "cell_type": "code",
      "metadata": {
        "colab": {
          "base_uri": "https://localhost:8080/",
          "height": 309
        },
        "id": "IUQXjHymyAEy",
        "outputId": "8006d434-9307-4cdd-fd73-1a70f8719b8c"
      },
      "source": [
        "df = pd.read_csv('weatherAUS.csv')\n",
        "df.head()"
      ],
      "execution_count": null,
      "outputs": [
        {
          "output_type": "execute_result",
          "data": {
            "text/html": [
              "<div>\n",
              "<style scoped>\n",
              "    .dataframe tbody tr th:only-of-type {\n",
              "        vertical-align: middle;\n",
              "    }\n",
              "\n",
              "    .dataframe tbody tr th {\n",
              "        vertical-align: top;\n",
              "    }\n",
              "\n",
              "    .dataframe thead th {\n",
              "        text-align: right;\n",
              "    }\n",
              "</style>\n",
              "<table border=\"1\" class=\"dataframe\">\n",
              "  <thead>\n",
              "    <tr style=\"text-align: right;\">\n",
              "      <th></th>\n",
              "      <th>Date</th>\n",
              "      <th>Location</th>\n",
              "      <th>MinTemp</th>\n",
              "      <th>MaxTemp</th>\n",
              "      <th>Rainfall</th>\n",
              "      <th>Evaporation</th>\n",
              "      <th>Sunshine</th>\n",
              "      <th>WindGustDir</th>\n",
              "      <th>WindGustSpeed</th>\n",
              "      <th>WindDir9am</th>\n",
              "      <th>WindDir3pm</th>\n",
              "      <th>WindSpeed9am</th>\n",
              "      <th>WindSpeed3pm</th>\n",
              "      <th>Humidity9am</th>\n",
              "      <th>Humidity3pm</th>\n",
              "      <th>Pressure9am</th>\n",
              "      <th>Pressure3pm</th>\n",
              "      <th>Cloud9am</th>\n",
              "      <th>Cloud3pm</th>\n",
              "      <th>Temp9am</th>\n",
              "      <th>Temp3pm</th>\n",
              "      <th>RainToday</th>\n",
              "      <th>RainTomorrow</th>\n",
              "    </tr>\n",
              "  </thead>\n",
              "  <tbody>\n",
              "    <tr>\n",
              "      <th>0</th>\n",
              "      <td>2008-12-01</td>\n",
              "      <td>Albury</td>\n",
              "      <td>13.4</td>\n",
              "      <td>22.9</td>\n",
              "      <td>0.6</td>\n",
              "      <td>NaN</td>\n",
              "      <td>NaN</td>\n",
              "      <td>W</td>\n",
              "      <td>44.0</td>\n",
              "      <td>W</td>\n",
              "      <td>WNW</td>\n",
              "      <td>20.0</td>\n",
              "      <td>24.0</td>\n",
              "      <td>71.0</td>\n",
              "      <td>22.0</td>\n",
              "      <td>1007.7</td>\n",
              "      <td>1007.1</td>\n",
              "      <td>8.0</td>\n",
              "      <td>NaN</td>\n",
              "      <td>16.9</td>\n",
              "      <td>21.8</td>\n",
              "      <td>No</td>\n",
              "      <td>No</td>\n",
              "    </tr>\n",
              "    <tr>\n",
              "      <th>1</th>\n",
              "      <td>2008-12-02</td>\n",
              "      <td>Albury</td>\n",
              "      <td>7.4</td>\n",
              "      <td>25.1</td>\n",
              "      <td>0.0</td>\n",
              "      <td>NaN</td>\n",
              "      <td>NaN</td>\n",
              "      <td>WNW</td>\n",
              "      <td>44.0</td>\n",
              "      <td>NNW</td>\n",
              "      <td>WSW</td>\n",
              "      <td>4.0</td>\n",
              "      <td>22.0</td>\n",
              "      <td>44.0</td>\n",
              "      <td>25.0</td>\n",
              "      <td>1010.6</td>\n",
              "      <td>1007.8</td>\n",
              "      <td>NaN</td>\n",
              "      <td>NaN</td>\n",
              "      <td>17.2</td>\n",
              "      <td>24.3</td>\n",
              "      <td>No</td>\n",
              "      <td>No</td>\n",
              "    </tr>\n",
              "    <tr>\n",
              "      <th>2</th>\n",
              "      <td>2008-12-03</td>\n",
              "      <td>Albury</td>\n",
              "      <td>12.9</td>\n",
              "      <td>25.7</td>\n",
              "      <td>0.0</td>\n",
              "      <td>NaN</td>\n",
              "      <td>NaN</td>\n",
              "      <td>WSW</td>\n",
              "      <td>46.0</td>\n",
              "      <td>W</td>\n",
              "      <td>WSW</td>\n",
              "      <td>19.0</td>\n",
              "      <td>26.0</td>\n",
              "      <td>38.0</td>\n",
              "      <td>30.0</td>\n",
              "      <td>1007.6</td>\n",
              "      <td>1008.7</td>\n",
              "      <td>NaN</td>\n",
              "      <td>2.0</td>\n",
              "      <td>21.0</td>\n",
              "      <td>23.2</td>\n",
              "      <td>No</td>\n",
              "      <td>No</td>\n",
              "    </tr>\n",
              "    <tr>\n",
              "      <th>3</th>\n",
              "      <td>2008-12-04</td>\n",
              "      <td>Albury</td>\n",
              "      <td>9.2</td>\n",
              "      <td>28.0</td>\n",
              "      <td>0.0</td>\n",
              "      <td>NaN</td>\n",
              "      <td>NaN</td>\n",
              "      <td>NE</td>\n",
              "      <td>24.0</td>\n",
              "      <td>SE</td>\n",
              "      <td>E</td>\n",
              "      <td>11.0</td>\n",
              "      <td>9.0</td>\n",
              "      <td>45.0</td>\n",
              "      <td>16.0</td>\n",
              "      <td>1017.6</td>\n",
              "      <td>1012.8</td>\n",
              "      <td>NaN</td>\n",
              "      <td>NaN</td>\n",
              "      <td>18.1</td>\n",
              "      <td>26.5</td>\n",
              "      <td>No</td>\n",
              "      <td>No</td>\n",
              "    </tr>\n",
              "    <tr>\n",
              "      <th>4</th>\n",
              "      <td>2008-12-05</td>\n",
              "      <td>Albury</td>\n",
              "      <td>17.5</td>\n",
              "      <td>32.3</td>\n",
              "      <td>1.0</td>\n",
              "      <td>NaN</td>\n",
              "      <td>NaN</td>\n",
              "      <td>W</td>\n",
              "      <td>41.0</td>\n",
              "      <td>ENE</td>\n",
              "      <td>NW</td>\n",
              "      <td>7.0</td>\n",
              "      <td>20.0</td>\n",
              "      <td>82.0</td>\n",
              "      <td>33.0</td>\n",
              "      <td>1010.8</td>\n",
              "      <td>1006.0</td>\n",
              "      <td>7.0</td>\n",
              "      <td>8.0</td>\n",
              "      <td>17.8</td>\n",
              "      <td>29.7</td>\n",
              "      <td>No</td>\n",
              "      <td>No</td>\n",
              "    </tr>\n",
              "  </tbody>\n",
              "</table>\n",
              "</div>"
            ],
            "text/plain": [
              "         Date Location  MinTemp  ...  Temp3pm  RainToday  RainTomorrow\n",
              "0  2008-12-01   Albury     13.4  ...     21.8         No            No\n",
              "1  2008-12-02   Albury      7.4  ...     24.3         No            No\n",
              "2  2008-12-03   Albury     12.9  ...     23.2         No            No\n",
              "3  2008-12-04   Albury      9.2  ...     26.5         No            No\n",
              "4  2008-12-05   Albury     17.5  ...     29.7         No            No\n",
              "\n",
              "[5 rows x 23 columns]"
            ]
          },
          "metadata": {},
          "execution_count": 12
        }
      ]
    },
    {
      "cell_type": "code",
      "metadata": {
        "id": "naIl6XdWzZdm"
      },
      "source": [
        "cols = ['Rainfall', 'Humidity3pm', 'Pressure9am', 'RainToday', 'RainTomorrow']\n",
        "df = df[cols]\n",
        "\n",
        "df.RainToday.replace({'No':0, 'Yes':1}, inplace=True)\n",
        "df.RainTomorrow.replace({'No':0, 'Yes':1}, inplace=True)\n",
        "\n",
        "df = df.dropna(how='any')\n",
        "\n",
        "X = df[['Rainfall', 'Humidity3pm', 'RainToday', 'Pressure9am']]\n",
        "y = df[['RainTomorrow']]"
      ],
      "execution_count": null,
      "outputs": []
    },
    {
      "cell_type": "code",
      "metadata": {
        "colab": {
          "base_uri": "https://localhost:8080/"
        },
        "id": "TSRCfhmrzuXw",
        "outputId": "f5830242-6f36-4b23-c1e0-5451287960ef"
      },
      "source": [
        "X.shape, y.shape"
      ],
      "execution_count": null,
      "outputs": [
        {
          "output_type": "execute_result",
          "data": {
            "text/plain": [
              "((124689, 4), (124689, 1))"
            ]
          },
          "metadata": {},
          "execution_count": 14
        }
      ]
    },
    {
      "cell_type": "code",
      "metadata": {
        "id": "1KD1HS0Nz4xd"
      },
      "source": [
        "X_train, X_test, y_train, y_test = train_test_split(X, y, test_size=0.2, random_state = 42)"
      ],
      "execution_count": null,
      "outputs": []
    },
    {
      "cell_type": "code",
      "metadata": {
        "colab": {
          "base_uri": "https://localhost:8080/"
        },
        "id": "1F49Cxg3z9n1",
        "outputId": "136ee8ab-e09e-4fe6-ef02-3e4d08c76b23"
      },
      "source": [
        "X_train.shape, X_test.shape"
      ],
      "execution_count": null,
      "outputs": [
        {
          "output_type": "execute_result",
          "data": {
            "text/plain": [
              "((99751, 4), (24938, 4))"
            ]
          },
          "metadata": {},
          "execution_count": 19
        }
      ]
    },
    {
      "cell_type": "code",
      "metadata": {
        "colab": {
          "base_uri": "https://localhost:8080/"
        },
        "id": "mTAvLhMY0ZRk",
        "outputId": "33d2be97-4dae-4b62-ceb6-97c701f534f8"
      },
      "source": [
        "X_train.values"
      ],
      "execution_count": null,
      "outputs": [
        {
          "output_type": "execute_result",
          "data": {
            "text/plain": [
              "array([[0.0000e+00, 4.0000e+01, 0.0000e+00, 1.0082e+03],\n",
              "       [1.6000e+00, 6.1000e+01, 1.0000e+00, 1.0137e+03],\n",
              "       [0.0000e+00, 6.7000e+01, 0.0000e+00, 1.0160e+03],\n",
              "       ...,\n",
              "       [0.0000e+00, 7.2000e+01, 0.0000e+00, 1.0254e+03],\n",
              "       [8.0000e+00, 5.9000e+01, 1.0000e+00, 1.0173e+03],\n",
              "       [9.8000e+00, 7.5000e+01, 1.0000e+00, 1.0094e+03]])"
            ]
          },
          "metadata": {},
          "execution_count": 20
        }
      ]
    },
    {
      "cell_type": "code",
      "metadata": {
        "colab": {
          "base_uri": "https://localhost:8080/"
        },
        "id": "TSFv3z9u0bOP",
        "outputId": "63c2fdf8-4de4-430a-f4f9-1f3fe71a8cd8"
      },
      "source": [
        "X_train.to_numpy()"
      ],
      "execution_count": null,
      "outputs": [
        {
          "output_type": "execute_result",
          "data": {
            "text/plain": [
              "array([[0.0000e+00, 4.0000e+01, 0.0000e+00, 1.0082e+03],\n",
              "       [1.6000e+00, 6.1000e+01, 1.0000e+00, 1.0137e+03],\n",
              "       [0.0000e+00, 6.7000e+01, 0.0000e+00, 1.0160e+03],\n",
              "       ...,\n",
              "       [0.0000e+00, 7.2000e+01, 0.0000e+00, 1.0254e+03],\n",
              "       [8.0000e+00, 5.9000e+01, 1.0000e+00, 1.0173e+03],\n",
              "       [9.8000e+00, 7.5000e+01, 1.0000e+00, 1.0094e+03]])"
            ]
          },
          "metadata": {},
          "execution_count": 21
        }
      ]
    },
    {
      "cell_type": "code",
      "metadata": {
        "id": "g_bK7Rwd0AAw"
      },
      "source": [
        "X_train = torch.from_numpy(X_train.values).float()\n",
        "y_train = torch.squeeze(torch.from_numpy(y_train.values)).float()\n",
        "\n",
        "X_test = torch.from_numpy(X_test.to_numpy()).float()\n",
        "y_test = torch.squeeze(torch.from_numpy(y_test.to_numpy()).float())"
      ],
      "execution_count": null,
      "outputs": []
    },
    {
      "cell_type": "code",
      "metadata": {
        "colab": {
          "base_uri": "https://localhost:8080/"
        },
        "id": "OOysB8AW0UqY",
        "outputId": "c0913d29-40cb-4618-f990-261b885f36c7"
      },
      "source": [
        "X_train, X_test"
      ],
      "execution_count": null,
      "outputs": [
        {
          "output_type": "execute_result",
          "data": {
            "text/plain": [
              "(tensor([[0.0000e+00, 4.0000e+01, 0.0000e+00, 1.0082e+03],\n",
              "         [1.6000e+00, 6.1000e+01, 1.0000e+00, 1.0137e+03],\n",
              "         [0.0000e+00, 6.7000e+01, 0.0000e+00, 1.0160e+03],\n",
              "         ...,\n",
              "         [0.0000e+00, 7.2000e+01, 0.0000e+00, 1.0254e+03],\n",
              "         [8.0000e+00, 5.9000e+01, 1.0000e+00, 1.0173e+03],\n",
              "         [9.8000e+00, 7.5000e+01, 1.0000e+00, 1.0094e+03]]),\n",
              " tensor([[   0.0000,   30.0000,    0.0000, 1017.5000],\n",
              "         [   0.0000,   40.0000,    0.0000, 1037.2000],\n",
              "         [   0.0000,   49.0000,    0.0000, 1017.3000],\n",
              "         ...,\n",
              "         [   0.0000,   70.0000,    0.0000, 1025.7000],\n",
              "         [   0.0000,   70.0000,    0.0000, 1012.1000],\n",
              "         [   0.0000,   64.0000,    0.0000, 1019.9000]]))"
            ]
          },
          "metadata": {},
          "execution_count": 24
        }
      ]
    },
    {
      "cell_type": "code",
      "metadata": {
        "id": "b_SD3FOO0jE7"
      },
      "source": [
        "class Net(nn.Module):\n",
        "    def __init__(self, n_feature):\n",
        "        super().__init__()\n",
        "        self.fc1 = nn.Linear(n_feature, 5)\n",
        "        self.fc2 = nn.Linear(5, 3)\n",
        "        self.fc3 = nn.Linear(3, 1)\n",
        "    \n",
        "    def forward(self,x):\n",
        "        x = F.relu(self.fc1(x))\n",
        "        x = F.relu(self.fc2(x))\n",
        "        return torch.sigmoid(self.fc3(x))"
      ],
      "execution_count": null,
      "outputs": []
    },
    {
      "cell_type": "code",
      "metadata": {
        "id": "iqLQXkBH1WJr"
      },
      "source": [
        "net = Net(X_train.shape[1])"
      ],
      "execution_count": null,
      "outputs": []
    },
    {
      "cell_type": "code",
      "metadata": {
        "id": "2oOGJYSa1Yxl"
      },
      "source": [
        "loss = nn.BCELoss()"
      ],
      "execution_count": null,
      "outputs": []
    },
    {
      "cell_type": "code",
      "metadata": {
        "id": "52lJf25h1bF4"
      },
      "source": [
        "optimizer = optim.Adam(net.parameters(), lr=0.001)"
      ],
      "execution_count": null,
      "outputs": []
    },
    {
      "cell_type": "code",
      "metadata": {
        "id": "Guwk2PPJ3Jcz"
      },
      "source": [
        "device = torch.device(\"cuda:0\" if torch.cuda.is_available() else \"cpu\")\n",
        "\n",
        "X_train = X_train.to(device)\n",
        "y_train = y_train.to(device)\n",
        "\n",
        "X_test = X_test.to(device)\n",
        "y_test = y_test.to(device)"
      ],
      "execution_count": null,
      "outputs": []
    },
    {
      "cell_type": "code",
      "metadata": {
        "id": "JsQ4v-BX3UGf"
      },
      "source": [
        "net = net.to(device)\n",
        "loss = loss.to(device)"
      ],
      "execution_count": null,
      "outputs": []
    },
    {
      "cell_type": "code",
      "metadata": {
        "id": "HQk2tdzF3e9E"
      },
      "source": [
        "def calculate_accuracy(y_true, y_pred):\n",
        "    predicted = y_pred.ge(.5).view(-1)\n",
        "    return (y_true == predicted).sum().float() / len(y_true)"
      ],
      "execution_count": null,
      "outputs": []
    },
    {
      "cell_type": "code",
      "metadata": {
        "id": "-3I9zYRk3wCt"
      },
      "source": [
        "def round_tensor(t, decimal_places=3):\n",
        "    return round(t.item(), decimal_places)"
      ],
      "execution_count": null,
      "outputs": []
    },
    {
      "cell_type": "code",
      "metadata": {
        "colab": {
          "base_uri": "https://localhost:8080/"
        },
        "id": "NAFKzGCv30dE",
        "outputId": "4a6510c5-1f1d-4fa8-b162-81f655e46e16"
      },
      "source": [
        "for epoch in range(1000):\n",
        "    \n",
        "    y_pred = net(X_train)\n",
        "    \n",
        "    y_pred = torch.squeeze(y_pred)\n",
        "    train_loss = loss(y_pred, y_train)\n",
        "    \n",
        "    if epoch % 100 == 0:\n",
        "      train_acc = calculate_accuracy(y_train, y_pred)\n",
        "\n",
        "      y_test_pred = net(X_test)\n",
        "      y_test_pred = torch.squeeze(y_test_pred)\n",
        "\n",
        "      test_loss = loss(y_test_pred, y_test)\n",
        "\n",
        "      test_acc = calculate_accuracy(y_test, y_test_pred)\n",
        "      print(\n",
        "f'''epoch {epoch}\n",
        "Train set - loss: {round_tensor(train_loss)}, accuracy: {round_tensor(train_acc)}\n",
        "Test  set - loss: {round_tensor(test_loss)}, accuracy: {round_tensor(test_acc)}\n",
        "''')\n",
        "    \n",
        "    optimizer.zero_grad()\n",
        "    \n",
        "    train_loss.backward()\n",
        "    \n",
        "    optimizer.step()"
      ],
      "execution_count": null,
      "outputs": [
        {
          "output_type": "stream",
          "name": "stdout",
          "text": [
            "epoch 0\n",
            "Train set - loss: 5.419, accuracy: 0.779\n",
            "Test  set - loss: 5.427, accuracy: 0.778\n",
            "\n",
            "epoch 100\n",
            "Train set - loss: 0.433, accuracy: 0.809\n",
            "Test  set - loss: 0.432, accuracy: 0.81\n",
            "\n",
            "epoch 200\n",
            "Train set - loss: 0.412, accuracy: 0.83\n",
            "Test  set - loss: 0.412, accuracy: 0.83\n",
            "\n",
            "epoch 300\n",
            "Train set - loss: 0.407, accuracy: 0.832\n",
            "Test  set - loss: 0.408, accuracy: 0.834\n",
            "\n",
            "epoch 400\n",
            "Train set - loss: 0.406, accuracy: 0.834\n",
            "Test  set - loss: 0.406, accuracy: 0.834\n",
            "\n",
            "epoch 500\n",
            "Train set - loss: 0.405, accuracy: 0.834\n",
            "Test  set - loss: 0.406, accuracy: 0.835\n",
            "\n",
            "epoch 600\n",
            "Train set - loss: 0.405, accuracy: 0.834\n",
            "Test  set - loss: 0.405, accuracy: 0.835\n",
            "\n",
            "epoch 700\n",
            "Train set - loss: 0.405, accuracy: 0.834\n",
            "Test  set - loss: 0.405, accuracy: 0.836\n",
            "\n",
            "epoch 800\n",
            "Train set - loss: 0.404, accuracy: 0.834\n",
            "Test  set - loss: 0.404, accuracy: 0.836\n",
            "\n",
            "epoch 900\n",
            "Train set - loss: 0.404, accuracy: 0.834\n",
            "Test  set - loss: 0.404, accuracy: 0.836\n",
            "\n"
          ]
        }
      ]
    },
    {
      "cell_type": "markdown",
      "metadata": {
        "id": "cqzMyBMZ7NM_"
      },
      "source": [
        "# normalize\n",
        "ở trên tác giả k normalize trước khi train, đây gần như là điều bắt buộc vs nn, nhưng ở trên vẫn hội tụ đc. mình k nhớ chính xác có fai do Adam k cần normalize ko"
      ]
    },
    {
      "cell_type": "code",
      "metadata": {
        "id": "hGfLzwOt4kmr"
      },
      "source": [
        "from sklearn.preprocessing import StandardScaler\n",
        "\n",
        "\n",
        "std = StandardScaler()\n",
        "X_train_std = std.fit_transform(X_train)\n",
        "\n",
        "X_test_std = std.transform(X_test)"
      ],
      "execution_count": null,
      "outputs": []
    },
    {
      "cell_type": "code",
      "metadata": {
        "id": "Q0vz6fY75Otl"
      },
      "source": [
        "net = Net(X_train.shape[1])\n",
        "net = net.to(device)"
      ],
      "execution_count": null,
      "outputs": []
    },
    {
      "cell_type": "code",
      "metadata": {
        "id": "CUXf7F7p5Zq0"
      },
      "source": [
        "X_train_std = torch.from_numpy(X_train_std).float()\n",
        "X_test_std = torch.from_numpy(X_test_std).float()"
      ],
      "execution_count": null,
      "outputs": []
    },
    {
      "cell_type": "code",
      "metadata": {
        "id": "UFbty1S-5Vnz"
      },
      "source": [
        "X_train_std = X_train_std.to(device)\n",
        "X_test_std = X_test_std.to(device)"
      ],
      "execution_count": null,
      "outputs": []
    },
    {
      "cell_type": "code",
      "metadata": {
        "id": "o2SxgGe85ygD"
      },
      "source": [
        "loss = nn.BCELoss()"
      ],
      "execution_count": null,
      "outputs": []
    },
    {
      "cell_type": "code",
      "metadata": {
        "id": "Dxx_mijS5ygF"
      },
      "source": [
        "optimizer = optim.Adam(net.parameters(), lr=0.001)"
      ],
      "execution_count": null,
      "outputs": []
    },
    {
      "cell_type": "code",
      "metadata": {
        "id": "v1KI9Raw5ygF"
      },
      "source": [
        "net = net.to(device)\n",
        "loss = loss.to(device)"
      ],
      "execution_count": null,
      "outputs": []
    },
    {
      "cell_type": "code",
      "metadata": {
        "colab": {
          "base_uri": "https://localhost:8080/"
        },
        "id": "BGFI_Cyz5KeV",
        "outputId": "5bea7d5f-a3d4-441a-cd46-dff6d04dd51e"
      },
      "source": [
        "for epoch in range(1000):\n",
        "    \n",
        "    y_pred = net(X_train_std)\n",
        "    \n",
        "    y_pred = torch.squeeze(y_pred)\n",
        "    train_loss = loss(y_pred, y_train)\n",
        "    \n",
        "    if epoch % 100 == 0:\n",
        "      train_acc = calculate_accuracy(y_train, y_pred)\n",
        "\n",
        "      y_test_pred = net(X_test_std)\n",
        "      y_test_pred = torch.squeeze(y_test_pred)\n",
        "\n",
        "      test_loss = loss(y_test_pred, y_test)\n",
        "\n",
        "      test_acc = calculate_accuracy(y_test, y_test_pred)\n",
        "      print(\n",
        "f'''epoch {epoch}\n",
        "Train set - loss: {round_tensor(train_loss)}, accuracy: {round_tensor(train_acc)}\n",
        "Test  set - loss: {round_tensor(test_loss)}, accuracy: {round_tensor(test_acc)}\n",
        "''')\n",
        "    \n",
        "    optimizer.zero_grad()\n",
        "    \n",
        "    train_loss.backward()\n",
        "    \n",
        "    optimizer.step()"
      ],
      "execution_count": null,
      "outputs": [
        {
          "output_type": "stream",
          "name": "stdout",
          "text": [
            "epoch 0\n",
            "Train set - loss: 0.709, accuracy: 0.242\n",
            "Test  set - loss: 0.709, accuracy: 0.239\n",
            "\n",
            "epoch 100\n",
            "Train set - loss: 0.617, accuracy: 0.779\n",
            "Test  set - loss: 0.617, accuracy: 0.778\n",
            "\n",
            "epoch 200\n",
            "Train set - loss: 0.512, accuracy: 0.806\n",
            "Test  set - loss: 0.511, accuracy: 0.806\n",
            "\n",
            "epoch 300\n",
            "Train set - loss: 0.428, accuracy: 0.822\n",
            "Test  set - loss: 0.426, accuracy: 0.826\n",
            "\n",
            "epoch 400\n",
            "Train set - loss: 0.389, accuracy: 0.836\n",
            "Test  set - loss: 0.386, accuracy: 0.839\n",
            "\n",
            "epoch 500\n",
            "Train set - loss: 0.382, accuracy: 0.837\n",
            "Test  set - loss: 0.379, accuracy: 0.841\n",
            "\n",
            "epoch 600\n",
            "Train set - loss: 0.381, accuracy: 0.838\n",
            "Test  set - loss: 0.378, accuracy: 0.841\n",
            "\n",
            "epoch 700\n",
            "Train set - loss: 0.38, accuracy: 0.838\n",
            "Test  set - loss: 0.377, accuracy: 0.841\n",
            "\n",
            "epoch 800\n",
            "Train set - loss: 0.38, accuracy: 0.838\n",
            "Test  set - loss: 0.376, accuracy: 0.842\n",
            "\n",
            "epoch 900\n",
            "Train set - loss: 0.379, accuracy: 0.838\n",
            "Test  set - loss: 0.376, accuracy: 0.842\n",
            "\n"
          ]
        }
      ]
    },
    {
      "cell_type": "markdown",
      "metadata": {
        "id": "rvP_MfmT7nVu"
      },
      "source": [
        "# save model"
      ]
    },
    {
      "cell_type": "code",
      "metadata": {
        "id": "SWJMeb-s5gy3"
      },
      "source": [
        "torch.save(net, 'simplenn.pth')"
      ],
      "execution_count": null,
      "outputs": []
    },
    {
      "cell_type": "code",
      "metadata": {
        "id": "csxLk94R7sRy"
      },
      "source": [
        "_net = torch.load('simplenn.pth')"
      ],
      "execution_count": null,
      "outputs": []
    },
    {
      "cell_type": "code",
      "metadata": {
        "id": "sPVtzvCI74IV"
      },
      "source": [
        "y_test_pred = _net(X_test_std)"
      ],
      "execution_count": null,
      "outputs": []
    },
    {
      "cell_type": "code",
      "metadata": {
        "id": "C86ogH-k776F"
      },
      "source": [
        "from sklearn.metrics import accuracy_score"
      ],
      "execution_count": null,
      "outputs": []
    },
    {
      "cell_type": "code",
      "metadata": {
        "colab": {
          "base_uri": "https://localhost:8080/"
        },
        "id": "rpA9uZbn8Aob",
        "outputId": "3c4ec1d2-8f7c-4ca1-87ea-cbd87e2d8e60"
      },
      "source": [
        "y_test_pred, y_test"
      ],
      "execution_count": null,
      "outputs": [
        {
          "output_type": "execute_result",
          "data": {
            "text/plain": [
              "(tensor([[0.0540],\n",
              "         [0.0114],\n",
              "         [0.1014],\n",
              "         ...,\n",
              "         [0.1851],\n",
              "         [0.4083],\n",
              "         [0.1709]], grad_fn=<SigmoidBackward>),\n",
              " tensor([0., 0., 0.,  ..., 0., 0., 1.]))"
            ]
          },
          "metadata": {},
          "execution_count": 81
        }
      ]
    },
    {
      "cell_type": "code",
      "metadata": {
        "colab": {
          "base_uri": "https://localhost:8080/"
        },
        "id": "-aQtzZCv7-of",
        "outputId": "ae5e27ff-32ac-4d33-a0cc-213226bd7308"
      },
      "source": [
        "accuracy(y_test, y_test_pred)"
      ],
      "execution_count": null,
      "outputs": [
        {
          "output_type": "execute_result",
          "data": {
            "text/plain": [
              "tensor(0.8420)"
            ]
          },
          "metadata": {},
          "execution_count": 87
        }
      ]
    },
    {
      "cell_type": "code",
      "metadata": {
        "colab": {
          "base_uri": "https://localhost:8080/"
        },
        "id": "uAV99DWS9DW5",
        "outputId": "ff88075d-d2d0-4649-e782-8b74b1ef35f0"
      },
      "source": [
        "y_test_pred"
      ],
      "execution_count": null,
      "outputs": [
        {
          "output_type": "execute_result",
          "data": {
            "text/plain": [
              "tensor([[0.0540],\n",
              "        [0.0114],\n",
              "        [0.1014],\n",
              "        ...,\n",
              "        [0.1851],\n",
              "        [0.4083],\n",
              "        [0.1709]], grad_fn=<SigmoidBackward>)"
            ]
          },
          "metadata": {},
          "execution_count": 93
        }
      ]
    },
    {
      "cell_type": "code",
      "metadata": {
        "id": "tLsvwGmW8zkR",
        "colab": {
          "base_uri": "https://localhost:8080/"
        },
        "outputId": "39bcc8bf-ed4d-4819-b2be-63686a150fa3"
      },
      "source": [
        "y_pred = y_test_pred.ge(.5).view(-1)\n",
        "y_pred"
      ],
      "execution_count": null,
      "outputs": [
        {
          "output_type": "execute_result",
          "data": {
            "text/plain": [
              "tensor([False, False, False,  ..., False, False, False])"
            ]
          },
          "metadata": {},
          "execution_count": 92
        }
      ]
    },
    {
      "cell_type": "code",
      "metadata": {
        "colab": {
          "base_uri": "https://localhost:8080/"
        },
        "id": "oZ5ZGwc18G8S",
        "outputId": "70ff9205-5b4f-46ef-f519-2601c74b6d7f"
      },
      "source": [
        "print(classification_report(y_test,y_pred, target_names=['No rain', 'Raining']))"
      ],
      "execution_count": null,
      "outputs": [
        {
          "output_type": "stream",
          "name": "stdout",
          "text": [
            "              precision    recall  f1-score   support\n",
            "\n",
            "     No rain       0.86      0.95      0.90     19413\n",
            "     Raining       0.73      0.46      0.56      5525\n",
            "\n",
            "    accuracy                           0.84     24938\n",
            "   macro avg       0.79      0.71      0.73     24938\n",
            "weighted avg       0.83      0.84      0.83     24938\n",
            "\n"
          ]
        }
      ]
    },
    {
      "cell_type": "code",
      "metadata": {
        "colab": {
          "base_uri": "https://localhost:8080/"
        },
        "id": "g3bb_ieK8s0u",
        "outputId": "bc56fe5f-ff33-4252-db12-c4fa54c645b7"
      },
      "source": [
        "cm = confusion_matrix(y_test, y_pred)\n",
        "cm"
      ],
      "execution_count": null,
      "outputs": [
        {
          "output_type": "execute_result",
          "data": {
            "text/plain": [
              "array([[18452,   961],\n",
              "       [ 2979,  2546]])"
            ]
          },
          "metadata": {},
          "execution_count": 96
        }
      ]
    },
    {
      "cell_type": "code",
      "metadata": {
        "colab": {
          "base_uri": "https://localhost:8080/",
          "height": 281
        },
        "id": "5s3rIipS9Sip",
        "outputId": "35a20a6c-b555-400f-be0a-419a212fdbad"
      },
      "source": [
        "hmap = sns.heatmap(cm, annot=True, fmt=\"d\")\n",
        "hmap.yaxis.set_ticklabels(hmap.yaxis.get_ticklabels(), rotation=0, ha='right')\n",
        "hmap.xaxis.set_ticklabels(hmap.xaxis.get_ticklabels(), rotation=30, ha='right')\n",
        "plt.ylabel('True label')\n",
        "plt.xlabel('Predicted label');"
      ],
      "execution_count": null,
      "outputs": [
        {
          "output_type": "display_data",
          "data": {
            "image/png": "[encoded data removed]",
            "text/plain": [
              "<Figure size 432x288 with 2 Axes>"
            ]
          },
          "metadata": {
            "needs_background": "light"
          }
        }
      ]
    },
    {
      "cell_type": "code",
      "metadata": {
        "id": "4FEQOfXqJVQ5"
      },
      "source": [
        ""
      ],
      "execution_count": null,
      "outputs": []
    },
    {
      "cell_type": "code",
      "metadata": {
        "id": "USzskaUDJVKs"
      },
      "source": [
        ""
      ],
      "execution_count": null,
      "outputs": []
    }
  ]
}